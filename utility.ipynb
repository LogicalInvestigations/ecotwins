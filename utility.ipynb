{
 "cells": [
  {
   "cell_type": "code",
   "execution_count": null,
   "metadata": {},
   "outputs": [],
   "source": [
    "#default_exp utility"
   ]
  },
  {
   "cell_type": "code",
   "execution_count": null,
   "metadata": {},
   "outputs": [],
   "source": [
    "#export\n",
    "import numpy as np\n",
    "import matplotlib.pyplot as plt"
   ]
  },
  {
   "cell_type": "code",
   "execution_count": null,
   "metadata": {},
   "outputs": [],
   "source": [
    "#export\n",
    "# Computes the distances from position to objects. \n",
    "def distance(position,objects): \n",
    "    # return np.sqrt(((objects - position) ** 2).sum(axis=-1, keepdims=True))\n",
    "    return np.sqrt(((objects - position) ** 2).sum(axis=-1 ))"
   ]
  },
  {
   "cell_type": "code",
   "execution_count": null,
   "metadata": {},
   "outputs": [],
   "source": [
    "#export\n",
    "def normalize(objects): \n",
    "    dist = distance(0, objects)\n",
    "    if isinstance(dist, np.ndarray):\n",
    "        for i in range(dist.shape[0]):\n",
    "            if dist[i] == 0: dist[i] = 1.0e-10\n",
    "    else:\n",
    "        dist = np.full(1, dist if dist else 1.0e-10)\n",
    "        return objects / dist\n",
    "    \n",
    "    return objects/dist[..., None] "
   ]
  },
  {
   "cell_type": "code",
   "execution_count": null,
   "metadata": {},
   "outputs": [],
   "source": [
    "#export\n",
    "# Draw objects\n",
    "def draw_objects(objects, side=20):\n",
    "\n",
    "    # Add coordinate system\n",
    "    fig, ax = plt.subplots(figsize=(9,9))\n",
    "    ax.axis([-side/2, side/2, -side/2, side/2])\n",
    "    ax.set_aspect('equal')\n",
    "    plt.grid()\n",
    "\n",
    "    # Add labels\n",
    "    ax.set_xlabel('X-coordinate')\n",
    "    ax.set_ylabel('Y-coordinate')\n",
    "    #plt.title('World')\n",
    "\n",
    "    # Add objects\n",
    "    ax.scatter(objects[:,0],objects[:,1], marker='x', c='Black') #Red\n",
    "\n",
    "    # Add agent\n",
    "    #plt.scatter(position[0], position[1], marker='x', c='Black')\n",
    "\n",
    "    return fig, ax "
   ]
  },
  {
   "cell_type": "code",
   "execution_count": null,
   "metadata": {},
   "outputs": [],
   "source": [
    "#export\n",
    "def motion_diagram(objects,trace, side=20):\n",
    "\n",
    "    draw_objects(objects, side)\n",
    "    plt.plot(trace[:,0], trace[:,1])\n",
    "    plt.scatter(trace[0,0], trace[0,1], marker='x', c='Red')\n",
    "\n",
    "    plt.title(\"Motion diagram\")"
   ]
  },
  {
   "cell_type": "code",
   "execution_count": null,
   "metadata": {},
   "outputs": [
    {
     "name": "stdout",
     "output_type": "stream",
     "text": [
      "Converted 00_core.ipynb.\n",
      "Converted animal_classes.ipynb.\n",
      "Converted animation_helper.ipynb.\n",
      "Converted ecoenv.ipynb.\n",
      "Converted happiness.ipynb.\n",
      "Converted index.ipynb.\n",
      "Converted perception.ipynb.\n",
      "Converted reflex_agent.ipynb.\n",
      "Converted tyckande.ipynb.\n",
      "Converted utility.ipynb.\n",
      "Converted worlds.ipynb.\n"
     ]
    }
   ],
   "source": [
    "from nbdev.export import notebook2script; notebook2script()"
   ]
  }
 ],
 "metadata": {
  "kernelspec": {
   "display_name": "Python 3",
   "language": "python",
   "name": "python3"
  }
 },
 "nbformat": 4,
 "nbformat_minor": 4
}
