{
 "cells": [
  {
   "cell_type": "code",
   "execution_count": null,
   "id": "f4dd37eb-1fd5-48fc-b6cc-b102a2f7369f",
   "metadata": {},
   "outputs": [],
   "source": [
    "#default_exp reflex_agent"
   ]
  },
  {
   "cell_type": "markdown",
   "id": "58d51027-05c7-4259-9229-ffb2466d3a51",
   "metadata": {},
   "source": [
    "# ReflexAgent"
   ]
  },
  {
   "cell_type": "code",
   "execution_count": null,
   "id": "435c3550-a682-4562-9a58-b6c8266be6b2",
   "metadata": {},
   "outputs": [],
   "source": [
    "#export\n",
    "from collections import defaultdict\n",
    "import numpy as np\n",
    "from ecotwins.utility import normalize, distance\n",
    "\n",
    "class ReflexAgent:\n",
    "    def __init__(self, eco, n_dir=2):\n",
    "        self.eco = eco\n",
    "        self.cur_dir = 0\n",
    "        self.max_dir = n_dir \n",
    "\n",
    "         # Used to determine when to change direction. The direction is changed when\n",
    "         # we have found/consumed an object.\n",
    "        self.e_levels = eco.agent.interoception.copy()\n",
    "\n",
    "\n",
    "\n",
    "    def predict(self, observation, **kwargs):\n",
    "        # We assume that the first elements of the observation vector is the computed\n",
    "        # \"smell\" direction of the different objects. The chosen action is one of these\n",
    "        # vectors, which one depends on self.cur_dir\n",
    "\n",
    "        # First check if the direction should change ie an object is consumed.\n",
    "        self._update_direction()\n",
    "\n",
    "        action = observation[self.cur_dir * 2: self.cur_dir * 2 + 2]\n",
    "        if np.isclose(distance(action, 0), 0): # No perception signal, take random step\n",
    "#             print('Zero observation vector detected')\n",
    "            action = ecotwins.utility.normalize(np.random.random((2)) - 0.5)\n",
    "        assert np.isclose((action ** 2).sum(), 1), f'{action}'\n",
    "\n",
    "        return action, None # None needed in order to mimic stable-baseline3\n",
    "\n",
    "\n",
    "    def episode(self, n_step=None):\n",
    "        n_steps = np.iinfo(int).max if n_step is None else n_steps\n",
    "        obs = self.eco.reset()\n",
    "\n",
    "        action_dict = defaultdict(int)\n",
    "        for i in range(n_steps):\n",
    "            action = obs[self.cur_dir * 2: self.cur_dir * 2 + 2]\n",
    "            obs, reward, done, _ = self.eco.step(action)\n",
    "\n",
    "            if done:\n",
    "                break\n",
    "            upd = self._update_direction()\n",
    "            action_dict[upd['obj_name']] += 1\n",
    "\n",
    "        print(i, done, self.eco.agent.env.agent.interoception, action_dict)\n",
    "\n",
    "    def _update_direction(self):\n",
    "        # We do a simple approach here, compute the difference between the current\n",
    "        # intereception levels and the previous ones. Then loop through all of the\n",
    "        # homeostatic effects and pick the effect that best explains the interoception\n",
    "        # change.\n",
    "        if self.max_dir == 1:\n",
    "            return # Can't change direction there is only one.\n",
    "        i_change = (np.array(list(self.e_levels.values())) -\n",
    "                    np.array(list(self.eco.agent.interoception.values())))\n",
    "        if (i_change ** 2).sum() == 0: # No action\n",
    "            return\n",
    "\n",
    "        # Nothing has happened is currently the best explanation\n",
    "        best = {'action':None, 'obj_name':None, 'e_value':(i_change ** 2).sum()}\n",
    "        # print('Initially best explanation', best)\n",
    "        for (action_type, object_name), v in self.eco.agent.homeostatic_effects.items():\n",
    "            assert v.keys() == self.eco.agent.interoception.keys()\n",
    "            dist = i_change + np.array(list(v.values()))\n",
    "            if (dist ** 2).sum() < best['e_value']:\n",
    "                best = {'action':action_type, 'obj_name':object_name, 'e_value':(dist ** 2).sum()}\n",
    "        if best['action'] is not None and best['action'] != 'move':\n",
    "            # print('Best explanation', best)\n",
    "            self.cur_dir = ((self.cur_dir + 1) % self.max_dir) \n",
    "\n",
    "        self.e_levels = self.eco.agent.interoception.copy()\n",
    "\n",
    "        return best"
   ]
  },
  {
   "cell_type": "code",
   "execution_count": null,
   "id": "c7037fb5-efe4-4fa2-9ae6-3db4aeb2d148",
   "metadata": {},
   "outputs": [
    {
     "name": "stdout",
     "output_type": "stream",
     "text": [
      "Converted 00_core.ipynb.\n",
      "Converted animal_classes.ipynb.\n",
      "Converted animation_helper.ipynb.\n",
      "Converted ecoenv.ipynb.\n",
      "Converted happiness.ipynb.\n",
      "Converted index.ipynb.\n",
      "Converted perception.ipynb.\n",
      "Converted reflex_agent.ipynb.\n",
      "Converted tyckande.ipynb.\n",
      "Converted utility.ipynb.\n",
      "Converted worlds.ipynb.\n"
     ]
    }
   ],
   "source": [
    "from nbdev.export import notebook2script; notebook2script()"
   ]
  },
  {
   "cell_type": "code",
   "execution_count": null,
   "id": "d16c3d6f-5876-4f5f-9551-3e966e0bddd3",
   "metadata": {},
   "outputs": [],
   "source": []
  }
 ],
 "metadata": {
  "kernelspec": {
   "display_name": "Python 3",
   "language": "python",
   "name": "python3"
  }
 },
 "nbformat": 4,
 "nbformat_minor": 5
}
